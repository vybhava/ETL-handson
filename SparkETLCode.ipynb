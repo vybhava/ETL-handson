{
 "cells": [
  {
   "cell_type": "markdown",
   "id": "f2f09e9d",
   "metadata": {},
   "source": [
    "# Spark session initiating\n"
   ]
  },
  {
   "cell_type": "code",
   "execution_count": 1,
   "id": "704e57f7",
   "metadata": {},
   "outputs": [
    {
     "data": {
      "application/vnd.jupyter.widget-view+json": {
       "model_id": "5d69946807b943bb881b4b364519b880",
       "version_major": 2,
       "version_minor": 0
      },
      "text/plain": [
       "VBox()"
      ]
     },
     "metadata": {},
     "output_type": "display_data"
    },
    {
     "name": "stdout",
     "output_type": "stream",
     "text": [
      "Starting Spark application\n"
     ]
    },
    {
     "data": {
      "text/html": [
       "<table>\n",
       "<tr><th>ID</th><th>YARN Application ID</th><th>Kind</th><th>State</th><th>Spark UI</th><th>Driver log</th><th>Current session?</th></tr><tr><td>0</td><td>application_1683470228499_0003</td><td>pyspark</td><td>idle</td><td><a target=\"_blank\" href=\"http://ip-10-0-31-148.ec2.internal:20888/proxy/application_1683470228499_0003/\">Link</a></td><td><a target=\"_blank\" href=\"http://ip-10-0-31-148.ec2.internal:8042/node/containerlogs/container_1683470228499_0003_01_000001/livy\">Link</a></td><td>✔</td></tr></table>"
      ],
      "text/plain": [
       "<IPython.core.display.HTML object>"
      ]
     },
     "metadata": {},
     "output_type": "display_data"
    },
    {
     "data": {
      "application/vnd.jupyter.widget-view+json": {
       "model_id": "",
       "version_major": 2,
       "version_minor": 0
      },
      "text/plain": [
       "FloatProgress(value=0.0, bar_style='info', description='Progress:', layout=Layout(height='25px', width='50%'),…"
      ]
     },
     "metadata": {},
     "output_type": "display_data"
    },
    {
     "name": "stdout",
     "output_type": "stream",
     "text": [
      "SparkSession available as 'spark'.\n"
     ]
    },
    {
     "data": {
      "application/vnd.jupyter.widget-view+json": {
       "model_id": "",
       "version_major": 2,
       "version_minor": 0
      },
      "text/plain": [
       "FloatProgress(value=0.0, bar_style='info', description='Progress:', layout=Layout(height='25px', width='50%'),…"
      ]
     },
     "metadata": {},
     "output_type": "display_data"
    },
    {
     "name": "stdout",
     "output_type": "stream",
     "text": [
      "<SparkContext master=yarn appName=livy-session-0>"
     ]
    }
   ],
   "source": [
    "sc"
   ]
  },
  {
   "cell_type": "markdown",
   "id": "8e297b9e",
   "metadata": {},
   "source": [
    "# importing the required libraries"
   ]
  },
  {
   "cell_type": "code",
   "execution_count": 2,
   "id": "5c403745",
   "metadata": {},
   "outputs": [
    {
     "data": {
      "application/vnd.jupyter.widget-view+json": {
       "model_id": "52bd94190c884eca87715a387b39c05f",
       "version_major": 2,
       "version_minor": 0
      },
      "text/plain": [
       "VBox()"
      ]
     },
     "metadata": {},
     "output_type": "display_data"
    },
    {
     "data": {
      "application/vnd.jupyter.widget-view+json": {
       "model_id": "",
       "version_major": 2,
       "version_minor": 0
      },
      "text/plain": [
       "FloatProgress(value=0.0, bar_style='info', description='Progress:', layout=Layout(height='25px', width='50%'),…"
      ]
     },
     "metadata": {},
     "output_type": "display_data"
    }
   ],
   "source": [
    "#Setting up the environment\n",
    "import os\n",
    "import sys\n",
    "os.environ[\"PYSPARK_PYTHON\"] = \"/usr/bin/python3\"\n",
    "os.environ[\"JAVA_HOME\"] = \"/usr/java/jdk1.8.0_161/jre\"\n",
    "os.environ[\"SPARK_HOME\"] = \"/usr/lib/spark\"\n",
    "os.environ[\"PYLIB\"] = os.environ[\"SPARK_HOME\"] + \"/python/lib\"\n",
    "sys.path.insert(0, os.environ[\"PYLIB\"] +\"/py4j-0.10.7-src.zip\")\n",
    "sys.path.insert(0, os.environ[\"PYLIB\"] +\"/pyspark.zip\")"
   ]
  },
  {
   "cell_type": "code",
   "execution_count": 3,
   "id": "9070a44d",
   "metadata": {},
   "outputs": [
    {
     "data": {
      "application/vnd.jupyter.widget-view+json": {
       "model_id": "dbf695a5c9a74414bb136e84d1b86ffe",
       "version_major": 2,
       "version_minor": 0
      },
      "text/plain": [
       "VBox()"
      ]
     },
     "metadata": {},
     "output_type": "display_data"
    },
    {
     "data": {
      "application/vnd.jupyter.widget-view+json": {
       "model_id": "",
       "version_major": 2,
       "version_minor": 0
      },
      "text/plain": [
       "FloatProgress(value=0.0, bar_style='info', description='Progress:', layout=Layout(height='25px', width='50%'),…"
      ]
     },
     "metadata": {},
     "output_type": "display_data"
    },
    {
     "name": "stdout",
     "output_type": "stream",
     "text": [
      "<pyspark.sql.session.SparkSession object at 0x7fefd85dcc10>"
     ]
    }
   ],
   "source": [
    "from pyspark.sql import SparkSession\n",
    "from pyspark.sql.functions import monotonically_increasing_id \n",
    "spark"
   ]
  },
  {
   "cell_type": "code",
   "execution_count": 4,
   "id": "0793fb4b",
   "metadata": {},
   "outputs": [
    {
     "data": {
      "application/vnd.jupyter.widget-view+json": {
       "model_id": "7daa0b0da0bd4229b19df1af36646e0b",
       "version_major": 2,
       "version_minor": 0
      },
      "text/plain": [
       "VBox()"
      ]
     },
     "metadata": {},
     "output_type": "display_data"
    },
    {
     "data": {
      "application/vnd.jupyter.widget-view+json": {
       "model_id": "",
       "version_major": 2,
       "version_minor": 0
      },
      "text/plain": [
       "FloatProgress(value=0.0, bar_style='info', description='Progress:', layout=Layout(height='25px', width='50%'),…"
      ]
     },
     "metadata": {},
     "output_type": "display_data"
    }
   ],
   "source": [
    "from pyspark.sql.types import *\n",
    "from pyspark.sql.window import Window\n",
    "import pyspark.sql.functions as F\n",
    "from pyspark.sql.functions import row_number\n",
    "from pyspark.sql.functions import *"
   ]
  },
  {
   "cell_type": "code",
   "execution_count": 5,
   "id": "bc610a94",
   "metadata": {},
   "outputs": [
    {
     "data": {
      "application/vnd.jupyter.widget-view+json": {
       "model_id": "ac4fb24dad8942c597131a6437f5185d",
       "version_major": 2,
       "version_minor": 0
      },
      "text/plain": [
       "VBox()"
      ]
     },
     "metadata": {},
     "output_type": "display_data"
    },
    {
     "data": {
      "application/vnd.jupyter.widget-view+json": {
       "model_id": "",
       "version_major": 2,
       "version_minor": 0
      },
      "text/plain": [
       "FloatProgress(value=0.0, bar_style='info', description='Progress:', layout=Layout(height='25px', width='50%'),…"
      ]
     },
     "metadata": {},
     "output_type": "display_data"
    }
   ],
   "source": [
    "from pyspark.sql.types import StructType, StructField, IntegerType, StringType, BooleanType, DoubleType, LongType"
   ]
  },
  {
   "cell_type": "markdown",
   "id": "b540a6bf",
   "metadata": {},
   "source": [
    "# Reading the data loading to livy location"
   ]
  },
  {
   "cell_type": "code",
   "execution_count": 8,
   "id": "361288e7",
   "metadata": {},
   "outputs": [
    {
     "data": {
      "application/vnd.jupyter.widget-view+json": {
       "model_id": "f5238103015842c5936df83ca9dccbea",
       "version_major": 2,
       "version_minor": 0
      },
      "text/plain": [
       "VBox()"
      ]
     },
     "metadata": {},
     "output_type": "display_data"
    },
    {
     "data": {
      "application/vnd.jupyter.widget-view+json": {
       "model_id": "",
       "version_major": 2,
       "version_minor": 0
      },
      "text/plain": [
       "FloatProgress(value=0.0, bar_style='info', description='Progress:', layout=Layout(height='25px', width='50%'),…"
      ]
     },
     "metadata": {},
     "output_type": "display_data"
    }
   ],
   "source": [
    "# reading the data from the bank_atm file from the hadoop /user/livy location\n",
    "file1 = spark.read.csv(\"part-m-00000\", header = False, inferSchema = True)"
   ]
  },
  {
   "cell_type": "code",
   "execution_count": 9,
   "id": "9da22f3b",
   "metadata": {},
   "outputs": [
    {
     "data": {
      "application/vnd.jupyter.widget-view+json": {
       "model_id": "1c551b60672b4764ae1bd6976cc2a988",
       "version_major": 2,
       "version_minor": 0
      },
      "text/plain": [
       "VBox()"
      ]
     },
     "metadata": {},
     "output_type": "display_data"
    },
    {
     "data": {
      "application/vnd.jupyter.widget-view+json": {
       "model_id": "",
       "version_major": 2,
       "version_minor": 0
      },
      "text/plain": [
       "FloatProgress(value=0.0, bar_style='info', description='Progress:', layout=Layout(height='25px', width='50%'),…"
      ]
     },
     "metadata": {},
     "output_type": "display_data"
    },
    {
     "name": "stdout",
     "output_type": "stream",
     "text": [
      "2468572"
     ]
    }
   ],
   "source": [
    "file1.select().count()"
   ]
  },
  {
   "cell_type": "code",
   "execution_count": 10,
   "id": "41dcbd23",
   "metadata": {},
   "outputs": [
    {
     "data": {
      "application/vnd.jupyter.widget-view+json": {
       "model_id": "a60f0b0ea2b44f63adb084ac21a6961c",
       "version_major": 2,
       "version_minor": 0
      },
      "text/plain": [
       "VBox()"
      ]
     },
     "metadata": {},
     "output_type": "display_data"
    },
    {
     "data": {
      "application/vnd.jupyter.widget-view+json": {
       "model_id": "",
       "version_major": 2,
       "version_minor": 0
      },
      "text/plain": [
       "FloatProgress(value=0.0, bar_style='info', description='Progress:', layout=Layout(height='25px', width='50%'),…"
      ]
     },
     "metadata": {},
     "output_type": "display_data"
    },
    {
     "name": "stdout",
     "output_type": "stream",
     "text": [
      "root\n",
      " |-- _c0: integer (nullable = true)\n",
      " |-- _c1: string (nullable = true)\n",
      " |-- _c2: integer (nullable = true)\n",
      " |-- _c3: string (nullable = true)\n",
      " |-- _c4: integer (nullable = true)\n",
      " |-- _c5: string (nullable = true)\n",
      " |-- _c6: integer (nullable = true)\n",
      " |-- _c7: string (nullable = true)\n",
      " |-- _c8: string (nullable = true)\n",
      " |-- _c9: string (nullable = true)\n",
      " |-- _c10: integer (nullable = true)\n",
      " |-- _c11: integer (nullable = true)\n",
      " |-- _c12: double (nullable = true)\n",
      " |-- _c13: double (nullable = true)\n",
      " |-- _c14: string (nullable = true)\n",
      " |-- _c15: string (nullable = true)\n",
      " |-- _c16: integer (nullable = true)\n",
      " |-- _c17: string (nullable = true)\n",
      " |-- _c18: integer (nullable = true)\n",
      " |-- _c19: string (nullable = true)\n",
      " |-- _c20: double (nullable = true)\n",
      " |-- _c21: double (nullable = true)\n",
      " |-- _c22: integer (nullable = true)\n",
      " |-- _c23: string (nullable = true)\n",
      " |-- _c24: double (nullable = true)\n",
      " |-- _c25: integer (nullable = true)\n",
      " |-- _c26: integer (nullable = true)\n",
      " |-- _c27: integer (nullable = true)\n",
      " |-- _c28: integer (nullable = true)\n",
      " |-- _c29: double (nullable = true)\n",
      " |-- _c30: integer (nullable = true)\n",
      " |-- _c31: integer (nullable = true)\n",
      " |-- _c32: string (nullable = true)\n",
      " |-- _c33: string (nullable = true)"
     ]
    }
   ],
   "source": [
    "#infered schema\n",
    "file1.printSchema()"
   ]
  },
  {
   "cell_type": "code",
   "execution_count": 11,
   "id": "b588a0d3",
   "metadata": {},
   "outputs": [
    {
     "data": {
      "application/vnd.jupyter.widget-view+json": {
       "model_id": "3e61717590fa48fea52be160331d6948",
       "version_major": 2,
       "version_minor": 0
      },
      "text/plain": [
       "VBox()"
      ]
     },
     "metadata": {},
     "output_type": "display_data"
    },
    {
     "data": {
      "application/vnd.jupyter.widget-view+json": {
       "model_id": "",
       "version_major": 2,
       "version_minor": 0
      },
      "text/plain": [
       "FloatProgress(value=0.0, bar_style='info', description='Progress:', layout=Layout(height='25px', width='50%'),…"
      ]
     },
     "metadata": {},
     "output_type": "display_data"
    }
   ],
   "source": [
    "#creating the schema using structtype command\n",
    "fileSchema = StructType([StructField('Year', IntegerType(),True),\n",
    "                        StructField('Month', StringType(),True),\n",
    "                        StructField('Day', IntegerType(),True),\n",
    "                        StructField('WeekDay', StringType(),True),\n",
    "                        StructField('Hour', IntegerType(),True),\n",
    "                        StructField('Atm_Status', StringType(),True),\n",
    "                        StructField('Atm_number', StringType(),True),\n",
    "                        StructField('Atm_Manufacturer', StringType(),True),\n",
    "                        StructField('Atm_Location', StringType(),True),\n",
    "                        StructField('Atm_StreetName', StringType(),True),\n",
    "                        StructField('Atm_StreetNum', IntegerType(),True),\n",
    "                        StructField('Atm_Zipcode', IntegerType(),True),\n",
    "                        StructField('Atm_Lat', DoubleType(),True),\n",
    "                        StructField('Atm_Long', DoubleType(),True),\n",
    "                        StructField('Currency', StringType(),True),\n",
    "                        StructField('Card_type', StringType(),True),\n",
    "                        StructField('Transaction_Amt', IntegerType(),True), \n",
    "                        StructField('Service', StringType(),True),\n",
    "                        StructField('Message_Code', StringType(),True),\n",
    "                        StructField('Message_Text', StringType(),True),\n",
    "                        StructField('Weather_Lat', DoubleType(),True),\n",
    "                        StructField('Weather_Long', DoubleType(),True),\n",
    "                        StructField('Weather_CityId', IntegerType(),True),\n",
    "                        StructField('Weather_CityName', StringType(),True), \n",
    "                        StructField('Temp', DoubleType(),True),\n",
    "                        StructField('Pressure', IntegerType(),True), \n",
    "                        StructField('Humidity', IntegerType(),True), \n",
    "                        StructField('Wind_Speed', IntegerType(),True), \n",
    "                        StructField('Wind_Degree', IntegerType(),True), \n",
    "                        StructField('Rain_3h', DoubleType(),True), \n",
    "                        StructField('Clouds_All', IntegerType(),True), \n",
    "                        StructField('Weather_Id', IntegerType(),True), \n",
    "                        StructField('Weather_Main', StringType(),True), \n",
    "                        StructField('Weather_Description', StringType(),True),  \n",
    "                        ])"
   ]
  },
  {
   "cell_type": "code",
   "execution_count": 13,
   "id": "c1a099ef",
   "metadata": {},
   "outputs": [
    {
     "data": {
      "application/vnd.jupyter.widget-view+json": {
       "model_id": "d5b12708c2e74034a67626284aca12e7",
       "version_major": 2,
       "version_minor": 0
      },
      "text/plain": [
       "VBox()"
      ]
     },
     "metadata": {},
     "output_type": "display_data"
    },
    {
     "data": {
      "application/vnd.jupyter.widget-view+json": {
       "model_id": "",
       "version_major": 2,
       "version_minor": 0
      },
      "text/plain": [
       "FloatProgress(value=0.0, bar_style='info', description='Progress:', layout=Layout(height='25px', width='50%'),…"
      ]
     },
     "metadata": {},
     "output_type": "display_data"
    }
   ],
   "source": [
    "# reading the file with the schema created\n",
    "file1 = spark.read.csv(\"part-m-00000\", header = False, schema = fileSchema)"
   ]
  },
  {
   "cell_type": "code",
   "execution_count": 14,
   "id": "af81b728",
   "metadata": {},
   "outputs": [
    {
     "data": {
      "application/vnd.jupyter.widget-view+json": {
       "model_id": "7949a084e5db473783542e0e0d815858",
       "version_major": 2,
       "version_minor": 0
      },
      "text/plain": [
       "VBox()"
      ]
     },
     "metadata": {},
     "output_type": "display_data"
    },
    {
     "data": {
      "application/vnd.jupyter.widget-view+json": {
       "model_id": "",
       "version_major": 2,
       "version_minor": 0
      },
      "text/plain": [
       "FloatProgress(value=0.0, bar_style='info', description='Progress:', layout=Layout(height='25px', width='50%'),…"
      ]
     },
     "metadata": {},
     "output_type": "display_data"
    },
    {
     "name": "stdout",
     "output_type": "stream",
     "text": [
      "2468572"
     ]
    }
   ],
   "source": [
    "file1.select('*').count()"
   ]
  },
  {
   "cell_type": "code",
   "execution_count": 15,
   "id": "7be2faeb",
   "metadata": {},
   "outputs": [
    {
     "data": {
      "application/vnd.jupyter.widget-view+json": {
       "model_id": "2dcc553963c1473a9d79c2f3849d6dff",
       "version_major": 2,
       "version_minor": 0
      },
      "text/plain": [
       "VBox()"
      ]
     },
     "metadata": {},
     "output_type": "display_data"
    },
    {
     "data": {
      "application/vnd.jupyter.widget-view+json": {
       "model_id": "",
       "version_major": 2,
       "version_minor": 0
      },
      "text/plain": [
       "FloatProgress(value=0.0, bar_style='info', description='Progress:', layout=Layout(height='25px', width='50%'),…"
      ]
     },
     "metadata": {},
     "output_type": "display_data"
    },
    {
     "name": "stdout",
     "output_type": "stream",
     "text": [
      "+----+-------+---+-------+----+----------+----------+----------------+------------+-------------------+-------------+-----------+-------+--------+--------+----------+---------------+----------+------------+------------+-----------+------------+--------------+----------------+------+--------+--------+----------+-----------+-------+----------+----------+------------+--------------------+\n",
      "|Year|  Month|Day|WeekDay|Hour|Atm_Status|Atm_number|Atm_Manufacturer|Atm_Location|     Atm_StreetName|Atm_StreetNum|Atm_Zipcode|Atm_Lat|Atm_Long|Currency| Card_type|Transaction_Amt|   Service|Message_Code|Message_Text|Weather_Lat|Weather_Long|Weather_CityId|Weather_CityName|  Temp|Pressure|Humidity|Wind_Speed|Wind_Degree|Rain_3h|Clouds_All|Weather_Id|Weather_Main| Weather_Description|\n",
      "+----+-------+---+-------+----+----------+----------+----------------+------------+-------------------+-------------+-----------+-------+--------+--------+----------+---------------+----------+------------+------------+-----------+------------+--------------+----------------+------+--------+--------+----------+-----------+-------+----------+----------+------------+--------------------+\n",
      "|2017|January|  1| Sunday|   0|    Active|         1|             NCR|  NÃƒÂ¦stved|        Farimagsvej|            8|       4700| 55.233|  11.763|     DKK|MasterCard|           5643|Withdrawal|        null|        null|      55.23|      11.761|       2616038|        Naestved|281.15|    1014|      87|         7|        260|  0.215|        92|       500|        Rain|          light rain|\n",
      "|2017|January|  1| Sunday|   0|  Inactive|         2|             NCR|    Vejgaard|         Hadsundvej|           20|       9000| 57.043|    9.95|     DKK|MasterCard|           1764|Withdrawal|        null|        null|     57.048|       9.935|       2616235|  NÃƒÂ¸rresundby|280.64|    1020|      93|         9|        250|   0.59|        92|       500|        Rain|          light rain|\n",
      "|2017|January|  1| Sunday|   0|  Inactive|         2|             NCR|    Vejgaard|         Hadsundvej|           20|       9000| 57.043|    9.95|     DKK|      VISA|           1891|Withdrawal|        null|        null|     57.048|       9.935|       2616235|  NÃƒÂ¸rresundby|280.64|    1020|      93|         9|        250|   0.59|        92|       500|        Rain|          light rain|\n",
      "|2017|January|  1| Sunday|   0|  Inactive|         3|             NCR|       Ikast|RÃƒÂ¥dhusstrÃƒÂ¦det|           12|       7430| 56.139|   9.154|     DKK|      VISA|           4166|Withdrawal|        null|        null|     56.139|       9.158|       2619426|           Ikast|281.15|    1011|     100|         6|        240|    0.0|        75|       300|     Drizzle|light intensity d...|\n",
      "|2017|January|  1| Sunday|   0|    Active|         4|             NCR|  Svogerslev|       BrÃƒÂ¸nsager|            1|       4000| 55.634|  12.018|     DKK|MasterCard|           5153|Withdrawal|        null|        null|     55.642|       12.08|       2614481|        Roskilde|280.61|    1014|      87|         7|        260|    0.0|        88|       701|        Mist|                mist|\n",
      "+----+-------+---+-------+----+----------+----------+----------------+------------+-------------------+-------------+-----------+-------+--------+--------+----------+---------------+----------+------------+------------+-----------+------------+--------------+----------------+------+--------+--------+----------+-----------+-------+----------+----------+------------+--------------------+\n",
      "only showing top 5 rows"
     ]
    }
   ],
   "source": [
    "file1.show(5)"
   ]
  },
  {
   "cell_type": "markdown",
   "id": "b8780e43",
   "metadata": {},
   "source": [
    "# 1.Location dimension table creation"
   ]
  },
  {
   "cell_type": "code",
   "execution_count": 16,
   "id": "9a67c9d4",
   "metadata": {},
   "outputs": [
    {
     "data": {
      "application/vnd.jupyter.widget-view+json": {
       "model_id": "c77a3b26cf904d548ecc4864a7a56307",
       "version_major": 2,
       "version_minor": 0
      },
      "text/plain": [
       "VBox()"
      ]
     },
     "metadata": {},
     "output_type": "display_data"
    },
    {
     "data": {
      "application/vnd.jupyter.widget-view+json": {
       "model_id": "",
       "version_major": 2,
       "version_minor": 0
      },
      "text/plain": [
       "FloatProgress(value=0.0, bar_style='info', description='Progress:', layout=Layout(height='25px', width='50%'),…"
      ]
     },
     "metadata": {},
     "output_type": "display_data"
    }
   ],
   "source": [
    "# creating the location dimension table \n",
    "DIM_LOCATION_NEW=file1.distinct().select('atm_location','atm_streetname','atm_streetnum','atm_zipcode','atm_lat','atm_long')"
   ]
  },
  {
   "cell_type": "code",
   "execution_count": 17,
   "id": "55569265",
   "metadata": {},
   "outputs": [
    {
     "data": {
      "application/vnd.jupyter.widget-view+json": {
       "model_id": "736187489c9e4fb4a21da5de9f6adab1",
       "version_major": 2,
       "version_minor": 0
      },
      "text/plain": [
       "VBox()"
      ]
     },
     "metadata": {},
     "output_type": "display_data"
    },
    {
     "data": {
      "application/vnd.jupyter.widget-view+json": {
       "model_id": "",
       "version_major": 2,
       "version_minor": 0
      },
      "text/plain": [
       "FloatProgress(value=0.0, bar_style='info', description='Progress:', layout=Layout(height='25px', width='50%'),…"
      ]
     },
     "metadata": {},
     "output_type": "display_data"
    }
   ],
   "source": [
    "# renaming the columns using the withColumnRenamed command\n",
    "location_dim_df = DIM_LOCATION_NEW.withColumnRenamed('atm_location','location').withColumnRenamed('atm_streetname','streetname').withColumnRenamed('atm_streetnum','streetnumber').withColumnRenamed('atm_zipcode','zipcode').withColumnRenamed('atm_lat','latitude').withColumnRenamed('atm_long','longitude')"
   ]
  },
  {
   "cell_type": "code",
   "execution_count": 18,
   "id": "ee05ff2b",
   "metadata": {},
   "outputs": [
    {
     "data": {
      "application/vnd.jupyter.widget-view+json": {
       "model_id": "3119eabbbe5e450db73b7499e5f97d56",
       "version_major": 2,
       "version_minor": 0
      },
      "text/plain": [
       "VBox()"
      ]
     },
     "metadata": {},
     "output_type": "display_data"
    },
    {
     "data": {
      "application/vnd.jupyter.widget-view+json": {
       "model_id": "",
       "version_major": 2,
       "version_minor": 0
      },
      "text/plain": [
       "FloatProgress(value=0.0, bar_style='info', description='Progress:', layout=Layout(height='25px', width='50%'),…"
      ]
     },
     "metadata": {},
     "output_type": "display_data"
    }
   ],
   "source": [
    "#creating the location id key using the row function\n",
    "location_dim_df=location_dim_df.dropDuplicates(['location','streetname','streetnumber','zipcode','latitude','longitude']).select('location','streetname','streetnumber','zipcode','latitude','longitude',\n",
    "                                                                                                                                 F.row_number().over(Window.orderBy(location_dim_df['location'])).alias(\"location_id\"))"
   ]
  },
  {
   "cell_type": "code",
   "execution_count": 19,
   "id": "dc7ed3ac",
   "metadata": {},
   "outputs": [
    {
     "data": {
      "application/vnd.jupyter.widget-view+json": {
       "model_id": "e9bb9e7f207f4162a417e2cd918d5c82",
       "version_major": 2,
       "version_minor": 0
      },
      "text/plain": [
       "VBox()"
      ]
     },
     "metadata": {},
     "output_type": "display_data"
    },
    {
     "data": {
      "application/vnd.jupyter.widget-view+json": {
       "model_id": "",
       "version_major": 2,
       "version_minor": 0
      },
      "text/plain": [
       "FloatProgress(value=0.0, bar_style='info', description='Progress:', layout=Layout(height='25px', width='50%'),…"
      ]
     },
     "metadata": {},
     "output_type": "display_data"
    }
   ],
   "source": [
    "location_dim_df=location_dim_df.select(\"location_id\",'location','streetname','streetnumber','zipcode','latitude','longitude')\n"
   ]
  },
  {
   "cell_type": "code",
   "execution_count": 20,
   "id": "1d7ce414",
   "metadata": {},
   "outputs": [
    {
     "data": {
      "application/vnd.jupyter.widget-view+json": {
       "model_id": "3ad83bf2a47e4acc9ecefd727ca8cae3",
       "version_major": 2,
       "version_minor": 0
      },
      "text/plain": [
       "VBox()"
      ]
     },
     "metadata": {},
     "output_type": "display_data"
    },
    {
     "data": {
      "application/vnd.jupyter.widget-view+json": {
       "model_id": "",
       "version_major": 2,
       "version_minor": 0
      },
      "text/plain": [
       "FloatProgress(value=0.0, bar_style='info', description='Progress:', layout=Layout(height='25px', width='50%'),…"
      ]
     },
     "metadata": {},
     "output_type": "display_data"
    },
    {
     "name": "stdout",
     "output_type": "stream",
     "text": [
      "+-----------+--------------------------+------------+------------+-------+--------+---------+\n",
      "|location_id|location                  |streetname  |streetnumber|zipcode|latitude|longitude|\n",
      "+-----------+--------------------------+------------+------------+-------+--------+---------+\n",
      "|1          |Aabybro                   |ÃƒËœstergade|6           |9440   |57.162  |9.73     |\n",
      "|2          |Aalborg Hallen            |Europa Plads|4           |9000   |57.044  |9.913    |\n",
      "|3          |Aalborg Storcenter  Afd   |Hobrovej    |452         |9200   |57.005  |9.876    |\n",
      "|4          |Aalborg Storcenter indg. D|Hobrovej    |452         |9200   |57.005  |9.876    |\n",
      "|5          |Aalborg Syd               |Hobrovej    |440         |9200   |57.005  |9.881    |\n",
      "+-----------+--------------------------+------------+------------+-------+--------+---------+\n",
      "only showing top 5 rows"
     ]
    }
   ],
   "source": [
    "location_dim_df.show(5, truncate=False)"
   ]
  },
  {
   "cell_type": "code",
   "execution_count": 21,
   "id": "5aef03ed",
   "metadata": {},
   "outputs": [
    {
     "data": {
      "application/vnd.jupyter.widget-view+json": {
       "model_id": "34ed4da19c334c26b86541a8ad790c94",
       "version_major": 2,
       "version_minor": 0
      },
      "text/plain": [
       "VBox()"
      ]
     },
     "metadata": {},
     "output_type": "display_data"
    },
    {
     "data": {
      "application/vnd.jupyter.widget-view+json": {
       "model_id": "",
       "version_major": 2,
       "version_minor": 0
      },
      "text/plain": [
       "FloatProgress(value=0.0, bar_style='info', description='Progress:', layout=Layout(height='25px', width='50%'),…"
      ]
     },
     "metadata": {},
     "output_type": "display_data"
    },
    {
     "name": "stdout",
     "output_type": "stream",
     "text": [
      "109"
     ]
    }
   ],
   "source": [
    "location_dim_df.select().count()"
   ]
  },
  {
   "cell_type": "markdown",
   "id": "008a2086",
   "metadata": {},
   "source": [
    "# 2. ATM dimension table creation"
   ]
  },
  {
   "cell_type": "code",
   "execution_count": 22,
   "id": "79d5d5a2",
   "metadata": {},
   "outputs": [
    {
     "data": {
      "application/vnd.jupyter.widget-view+json": {
       "model_id": "4b7b7e1348eb4eee9c8af1c327679748",
       "version_major": 2,
       "version_minor": 0
      },
      "text/plain": [
       "VBox()"
      ]
     },
     "metadata": {},
     "output_type": "display_data"
    },
    {
     "data": {
      "application/vnd.jupyter.widget-view+json": {
       "model_id": "",
       "version_major": 2,
       "version_minor": 0
      },
      "text/plain": [
       "FloatProgress(value=0.0, bar_style='info', description='Progress:', layout=Layout(height='25px', width='50%'),…"
      ]
     },
     "metadata": {},
     "output_type": "display_data"
    }
   ],
   "source": [
    "#atm column\n",
    "#dropping the duplicates\n",
    "x=file1.dropDuplicates(['Atm_number','Atm_Manufacturer', 'Atm_location', 'Atm_StreetName','Atm_StreetNum','Atm_Zipcode','Atm_Lat', 'Atm_Long']).select('Atm_number','Atm_Manufacturer', 'Atm_location', 'Atm_StreetName','Atm_StreetNum','Atm_Zipcode','Atm_Lat', 'Atm_Long')"
   ]
  },
  {
   "cell_type": "code",
   "execution_count": 23,
   "id": "9092c95b",
   "metadata": {},
   "outputs": [
    {
     "data": {
      "application/vnd.jupyter.widget-view+json": {
       "model_id": "a469e5d4496d46459984c372ddafbf23",
       "version_major": 2,
       "version_minor": 0
      },
      "text/plain": [
       "VBox()"
      ]
     },
     "metadata": {},
     "output_type": "display_data"
    },
    {
     "data": {
      "application/vnd.jupyter.widget-view+json": {
       "model_id": "",
       "version_major": 2,
       "version_minor": 0
      },
      "text/plain": [
       "FloatProgress(value=0.0, bar_style='info', description='Progress:', layout=Layout(height='25px', width='50%'),…"
      ]
     },
     "metadata": {},
     "output_type": "display_data"
    },
    {
     "name": "stdout",
     "output_type": "stream",
     "text": [
      "['Atm_number', 'Atm_Manufacturer', 'Atm_location', 'Atm_StreetName', 'Atm_StreetNum', 'Atm_Zipcode', 'Atm_Lat', 'Atm_Long']"
     ]
    }
   ],
   "source": [
    "x.columns"
   ]
  },
  {
   "cell_type": "code",
   "execution_count": 24,
   "id": "bc50a53b",
   "metadata": {},
   "outputs": [
    {
     "data": {
      "application/vnd.jupyter.widget-view+json": {
       "model_id": "2d84cf4ed1d84f2184cb696b5e8bdf36",
       "version_major": 2,
       "version_minor": 0
      },
      "text/plain": [
       "VBox()"
      ]
     },
     "metadata": {},
     "output_type": "display_data"
    },
    {
     "data": {
      "application/vnd.jupyter.widget-view+json": {
       "model_id": "",
       "version_major": 2,
       "version_minor": 0
      },
      "text/plain": [
       "FloatProgress(value=0.0, bar_style='info', description='Progress:', layout=Layout(height='25px', width='50%'),…"
      ]
     },
     "metadata": {},
     "output_type": "display_data"
    },
    {
     "name": "stdout",
     "output_type": "stream",
     "text": [
      "+------+----------+----------------+--------------------+---------------+\n",
      "|atm_id|atm_number|atm_manufacturer|        atm_location|atm_location_id|\n",
      "+------+----------+----------------+--------------------+---------------+\n",
      "|     1|        35|             NCR|             Aabybro|              1|\n",
      "|     2|        96|             NCR|      Aalborg Hallen|              2|\n",
      "|     3|       102|             NCR|Aalborg Storcente...|              3|\n",
      "|     4|        87|             NCR|Aalborg Storcente...|              4|\n",
      "|     5|       109| Diebold Nixdorf|         Aalborg Syd|              5|\n",
      "|     6|        71|             NCR|           AalbÃƒÂ¦k|              6|\n",
      "|     7|       111| Diebold Nixdorf|              Aarhus|              7|\n",
      "|     8|        50|             NCR|              Aarhus|              8|\n",
      "|     9|        77|             NCR|     Aarhus Lufthavn|              9|\n",
      "|    10|        43|             NCR|                Aars|             10|\n",
      "+------+----------+----------------+--------------------+---------------+\n",
      "only showing top 10 rows"
     ]
    }
   ],
   "source": [
    "# applying the left join for atm table with the location dimentional table to get the location id column, \n",
    "#creating the atm id column using the function monotonically incresing\n",
    "df1=x\n",
    "df2 = location_dim_df\n",
    "df1 = df1.alias('df1')\n",
    "df2 = df2.alias('df2')\n",
    "atm_dim = df1.join(df2, (df1['Atm_location'] == df2['location']) & \n",
    "                        (df1['Atm_StreetName'] == df2['streetname']) & \n",
    "                        (df1['Atm_StreetNum'] == df2['streetnumber']) & \n",
    "                        (df1['Atm_Zipcode'] == df2['zipcode']) & \n",
    "                        (df1['Atm_Lat'] == df2['latitude']) & \n",
    "                        (df1['Atm_Long'] == df2['longitude'])).select('df1.Atm_number', 'df1.Atm_Manufacturer', 'df1.Atm_location', 'df2.location_id')\n",
    "\n",
    "atm_dim = atm_dim.withColumnRenamed('Atm_Manufacturer', 'atm_manufacturer').withColumnRenamed('Atm_Location', 'atm_location').withColumnRenamed('location_id', 'atm_location_id')\n",
    "atm_dim = atm_dim.withColumn(\"atm_id\", row_number().over(Window.orderBy(monotonically_increasing_id())))\n",
    "atm_dim_df = atm_dim.select('atm_id', 'atm_number', 'atm_manufacturer', 'atm_location', 'atm_location_id')\n",
    "atm_dim_df.show(10)"
   ]
  },
  {
   "cell_type": "code",
   "execution_count": 25,
   "id": "b8111075",
   "metadata": {},
   "outputs": [
    {
     "data": {
      "application/vnd.jupyter.widget-view+json": {
       "model_id": "6780d6fe86c448869520e7379d4c64ce",
       "version_major": 2,
       "version_minor": 0
      },
      "text/plain": [
       "VBox()"
      ]
     },
     "metadata": {},
     "output_type": "display_data"
    },
    {
     "data": {
      "application/vnd.jupyter.widget-view+json": {
       "model_id": "",
       "version_major": 2,
       "version_minor": 0
      },
      "text/plain": [
       "FloatProgress(value=0.0, bar_style='info', description='Progress:', layout=Layout(height='25px', width='50%'),…"
      ]
     },
     "metadata": {},
     "output_type": "display_data"
    },
    {
     "name": "stdout",
     "output_type": "stream",
     "text": [
      "113"
     ]
    }
   ],
   "source": [
    "atm_dim_df.select().count()"
   ]
  },
  {
   "cell_type": "markdown",
   "id": "263d3ae5",
   "metadata": {},
   "source": [
    "# 3. Date dimension table creation "
   ]
  },
  {
   "cell_type": "code",
   "execution_count": 26,
   "id": "326c858e",
   "metadata": {},
   "outputs": [
    {
     "data": {
      "application/vnd.jupyter.widget-view+json": {
       "model_id": "04d9cf03135b477c8b03d614a2c24590",
       "version_major": 2,
       "version_minor": 0
      },
      "text/plain": [
       "VBox()"
      ]
     },
     "metadata": {},
     "output_type": "display_data"
    },
    {
     "data": {
      "application/vnd.jupyter.widget-view+json": {
       "model_id": "",
       "version_major": 2,
       "version_minor": 0
      },
      "text/plain": [
       "FloatProgress(value=0.0, bar_style='info', description='Progress:', layout=Layout(height='25px', width='50%'),…"
      ]
     },
     "metadata": {},
     "output_type": "display_data"
    }
   ],
   "source": [
    "#extracting the date table required columns and dropping the duplicate rows\n",
    "date_dim=file1.dropDuplicates(['year','day','month','hour','WeekDay']).select('year','day','month','hour','WeekDay')"
   ]
  },
  {
   "cell_type": "code",
   "execution_count": 27,
   "id": "e7c38e31",
   "metadata": {},
   "outputs": [
    {
     "data": {
      "application/vnd.jupyter.widget-view+json": {
       "model_id": "9fa23a6e2b864a908c21572e3e92d02f",
       "version_major": 2,
       "version_minor": 0
      },
      "text/plain": [
       "VBox()"
      ]
     },
     "metadata": {},
     "output_type": "display_data"
    },
    {
     "data": {
      "application/vnd.jupyter.widget-view+json": {
       "model_id": "",
       "version_major": 2,
       "version_minor": 0
      },
      "text/plain": [
       "FloatProgress(value=0.0, bar_style='info', description='Progress:', layout=Layout(height='25px', width='50%'),…"
      ]
     },
     "metadata": {},
     "output_type": "display_data"
    }
   ],
   "source": [
    "#creating the full date column using day , month and year columns\n",
    "res_df=date_dim.withColumn(\"full_date\",concat_ws(\"-\",date_dim.year, date_dim.month, date_dim.day))\n"
   ]
  },
  {
   "cell_type": "code",
   "execution_count": 28,
   "id": "def8a8bb",
   "metadata": {},
   "outputs": [
    {
     "data": {
      "application/vnd.jupyter.widget-view+json": {
       "model_id": "e6a57e201a0048c192478659a51e8357",
       "version_major": 2,
       "version_minor": 0
      },
      "text/plain": [
       "VBox()"
      ]
     },
     "metadata": {},
     "output_type": "display_data"
    },
    {
     "data": {
      "application/vnd.jupyter.widget-view+json": {
       "model_id": "",
       "version_major": 2,
       "version_minor": 0
      },
      "text/plain": [
       "FloatProgress(value=0.0, bar_style='info', description='Progress:', layout=Layout(height='25px', width='50%'),…"
      ]
     },
     "metadata": {},
     "output_type": "display_data"
    }
   ],
   "source": [
    "#creating the full time column using the hour column\n",
    "res_df1=res_df.withColumn('full_time', concat_ws(':', res_df.hour, lit('00'), lit('00')))"
   ]
  },
  {
   "cell_type": "code",
   "execution_count": 29,
   "id": "958f383f",
   "metadata": {},
   "outputs": [
    {
     "data": {
      "application/vnd.jupyter.widget-view+json": {
       "model_id": "d90d015cd10c48fe9cb5a785b2d0fda6",
       "version_major": 2,
       "version_minor": 0
      },
      "text/plain": [
       "VBox()"
      ]
     },
     "metadata": {},
     "output_type": "display_data"
    },
    {
     "data": {
      "application/vnd.jupyter.widget-view+json": {
       "model_id": "",
       "version_major": 2,
       "version_minor": 0
      },
      "text/plain": [
       "FloatProgress(value=0.0, bar_style='info', description='Progress:', layout=Layout(height='25px', width='50%'),…"
      ]
     },
     "metadata": {},
     "output_type": "display_data"
    },
    {
     "name": "stdout",
     "output_type": "stream",
     "text": [
      "+----+---+--------+----+---------+----------------+---------+-------------------------+\n",
      "|year|day|month   |hour|WeekDay  |full_date       |full_time|full_date_time           |\n",
      "+----+---+--------+----+---------+----------------+---------+-------------------------+\n",
      "|2017|4  |March   |13  |Saturday |2017-March-4    |13:00:00 |2017-March-4 13:00:00    |\n",
      "|2017|5  |March   |12  |Sunday   |2017-March-5    |12:00:00 |2017-March-5 12:00:00    |\n",
      "|2017|8  |March   |1   |Wednesday|2017-March-8    |1:00:00  |2017-March-8 1:00:00     |\n",
      "|2017|3  |February|3   |Friday   |2017-February-3 |3:00:00  |2017-February-3 3:00:00  |\n",
      "|2017|15 |February|12  |Wednesday|2017-February-15|12:00:00 |2017-February-15 12:00:00|\n",
      "+----+---+--------+----+---------+----------------+---------+-------------------------+\n",
      "only showing top 5 rows"
     ]
    }
   ],
   "source": [
    "# creating full date time column\n",
    "date_dim_df = res_df1.withColumn('full_date_time', concat_ws(' ', res_df1.full_date, res_df1.full_time))\n",
    "\n",
    "date_dim_df.show(5, truncate= False)"
   ]
  },
  {
   "cell_type": "code",
   "execution_count": 30,
   "id": "9fe03558",
   "metadata": {},
   "outputs": [
    {
     "data": {
      "application/vnd.jupyter.widget-view+json": {
       "model_id": "3d422882c0de4af99855428cf0a69d90",
       "version_major": 2,
       "version_minor": 0
      },
      "text/plain": [
       "VBox()"
      ]
     },
     "metadata": {},
     "output_type": "display_data"
    },
    {
     "data": {
      "application/vnd.jupyter.widget-view+json": {
       "model_id": "",
       "version_major": 2,
       "version_minor": 0
      },
      "text/plain": [
       "FloatProgress(value=0.0, bar_style='info', description='Progress:', layout=Layout(height='25px', width='50%'),…"
      ]
     },
     "metadata": {},
     "output_type": "display_data"
    }
   ],
   "source": [
    "# adding a pattern to full date time column and casting it as the timestamp data type\n",
    "pattern = 'yyyy-MMM-dd HH:mm:ss'\n",
    "date_dim_df1 = date_dim_df.withColumn('full_date_time', unix_timestamp(date_dim_df.full_date_time, pattern).cast('timestamp'))"
   ]
  },
  {
   "cell_type": "code",
   "execution_count": 31,
   "id": "222e6309",
   "metadata": {},
   "outputs": [
    {
     "data": {
      "application/vnd.jupyter.widget-view+json": {
       "model_id": "9dc5cb3f2c7e4bf38d9355ab1d8eb3fb",
       "version_major": 2,
       "version_minor": 0
      },
      "text/plain": [
       "VBox()"
      ]
     },
     "metadata": {},
     "output_type": "display_data"
    },
    {
     "data": {
      "application/vnd.jupyter.widget-view+json": {
       "model_id": "",
       "version_major": 2,
       "version_minor": 0
      },
      "text/plain": [
       "FloatProgress(value=0.0, bar_style='info', description='Progress:', layout=Layout(height='25px', width='50%'),…"
      ]
     },
     "metadata": {},
     "output_type": "display_data"
    }
   ],
   "source": [
    "# creating a date id column using the row number function\n",
    "date_dim_df1 = date_dim_df1.dropDuplicates(['year','day','month','hour','full_date_time','WeekDay']).select('year','day','month','hour','full_date_time','WeekDay',F.row_number().over(Window.orderBy(date_dim_df1['full_date_time'])).alias(\"date_id\"))"
   ]
  },
  {
   "cell_type": "code",
   "execution_count": 32,
   "id": "8eb79b88",
   "metadata": {},
   "outputs": [
    {
     "data": {
      "application/vnd.jupyter.widget-view+json": {
       "model_id": "ac0ebb01aee048dfa98b5c89eeb99bfe",
       "version_major": 2,
       "version_minor": 0
      },
      "text/plain": [
       "VBox()"
      ]
     },
     "metadata": {},
     "output_type": "display_data"
    },
    {
     "data": {
      "application/vnd.jupyter.widget-view+json": {
       "model_id": "",
       "version_major": 2,
       "version_minor": 0
      },
      "text/plain": [
       "FloatProgress(value=0.0, bar_style='info', description='Progress:', layout=Layout(height='25px', width='50%'),…"
      ]
     },
     "metadata": {},
     "output_type": "display_data"
    },
    {
     "name": "stdout",
     "output_type": "stream",
     "text": [
      "+----+---+-------+----+-------------------+-------+-------+\n",
      "|year|day|  month|hour|     full_date_time|WeekDay|date_id|\n",
      "+----+---+-------+----+-------------------+-------+-------+\n",
      "|2017|  1|January|   0|2017-01-01 00:00:00| Sunday|      1|\n",
      "|2017|  1|January|   1|2017-01-01 01:00:00| Sunday|      2|\n",
      "|2017|  1|January|   2|2017-01-01 02:00:00| Sunday|      3|\n",
      "|2017|  1|January|   3|2017-01-01 03:00:00| Sunday|      4|\n",
      "|2017|  1|January|   4|2017-01-01 04:00:00| Sunday|      5|\n",
      "+----+---+-------+----+-------------------+-------+-------+\n",
      "only showing top 5 rows"
     ]
    }
   ],
   "source": [
    "# validating the date table\n",
    "date_dim_df1.show(5)"
   ]
  },
  {
   "cell_type": "code",
   "execution_count": 33,
   "id": "d98939fc",
   "metadata": {
    "scrolled": true
   },
   "outputs": [
    {
     "data": {
      "application/vnd.jupyter.widget-view+json": {
       "model_id": "ed48f81db39e4f98aa83ebf14dda2cd7",
       "version_major": 2,
       "version_minor": 0
      },
      "text/plain": [
       "VBox()"
      ]
     },
     "metadata": {},
     "output_type": "display_data"
    },
    {
     "data": {
      "application/vnd.jupyter.widget-view+json": {
       "model_id": "",
       "version_major": 2,
       "version_minor": 0
      },
      "text/plain": [
       "FloatProgress(value=0.0, bar_style='info', description='Progress:', layout=Layout(height='25px', width='50%'),…"
      ]
     },
     "metadata": {},
     "output_type": "display_data"
    },
    {
     "name": "stdout",
     "output_type": "stream",
     "text": [
      "8685"
     ]
    }
   ],
   "source": [
    "date_dim_df1.select().count()"
   ]
  },
  {
   "cell_type": "markdown",
   "id": "4940811e",
   "metadata": {},
   "source": [
    "# 4. Card dimension table creation"
   ]
  },
  {
   "cell_type": "code",
   "execution_count": 34,
   "id": "1547b3df",
   "metadata": {},
   "outputs": [
    {
     "data": {
      "application/vnd.jupyter.widget-view+json": {
       "model_id": "e871c89c8db846399f49aea4c15f421e",
       "version_major": 2,
       "version_minor": 0
      },
      "text/plain": [
       "VBox()"
      ]
     },
     "metadata": {},
     "output_type": "display_data"
    },
    {
     "data": {
      "application/vnd.jupyter.widget-view+json": {
       "model_id": "",
       "version_major": 2,
       "version_minor": 0
      },
      "text/plain": [
       "FloatProgress(value=0.0, bar_style='info', description='Progress:', layout=Layout(height='25px', width='50%'),…"
      ]
     },
     "metadata": {},
     "output_type": "display_data"
    }
   ],
   "source": [
    "# creating the card dimension table\n",
    "card_df= file1.select('Card_type')"
   ]
  },
  {
   "cell_type": "code",
   "execution_count": 35,
   "id": "750c29db",
   "metadata": {},
   "outputs": [
    {
     "data": {
      "application/vnd.jupyter.widget-view+json": {
       "model_id": "63136bfe84044953b716dab34b50ffdb",
       "version_major": 2,
       "version_minor": 0
      },
      "text/plain": [
       "VBox()"
      ]
     },
     "metadata": {},
     "output_type": "display_data"
    },
    {
     "data": {
      "application/vnd.jupyter.widget-view+json": {
       "model_id": "",
       "version_major": 2,
       "version_minor": 0
      },
      "text/plain": [
       "FloatProgress(value=0.0, bar_style='info', description='Progress:', layout=Layout(height='25px', width='50%'),…"
      ]
     },
     "metadata": {},
     "output_type": "display_data"
    }
   ],
   "source": [
    "# creating the card id column with row function\n",
    "card_df1=card_df.dropDuplicates(['Card_type']).select('Card_type', F.row_number().over(Window.orderBy(card_df['Card_type'])).alias(\"Card_type_id\"))"
   ]
  },
  {
   "cell_type": "code",
   "execution_count": 36,
   "id": "319102ff",
   "metadata": {},
   "outputs": [
    {
     "data": {
      "application/vnd.jupyter.widget-view+json": {
       "model_id": "14ca000de1ec479eb94ac3e72bd34e03",
       "version_major": 2,
       "version_minor": 0
      },
      "text/plain": [
       "VBox()"
      ]
     },
     "metadata": {},
     "output_type": "display_data"
    },
    {
     "data": {
      "application/vnd.jupyter.widget-view+json": {
       "model_id": "",
       "version_major": 2,
       "version_minor": 0
      },
      "text/plain": [
       "FloatProgress(value=0.0, bar_style='info', description='Progress:', layout=Layout(height='25px', width='50%'),…"
      ]
     },
     "metadata": {},
     "output_type": "display_data"
    },
    {
     "name": "stdout",
     "output_type": "stream",
     "text": [
      "+--------------------+------------+\n",
      "|           Card_type|Card_type_id|\n",
      "+--------------------+------------+\n",
      "|              CIRRUS|           1|\n",
      "|             Dankort|           2|\n",
      "|     Dankort - on-us|           3|\n",
      "|         HÃƒÂ¦vekort|           4|\n",
      "| HÃƒÂ¦vekort - on-us|           5|\n",
      "|             Maestro|           6|\n",
      "|          MasterCard|           7|\n",
      "|  Mastercard - on-us|           8|\n",
      "|                VISA|           9|\n",
      "|        Visa Dankort|          10|\n",
      "|Visa Dankort - on-us|          11|\n",
      "|            VisaPlus|          12|\n",
      "+--------------------+------------+"
     ]
    }
   ],
   "source": [
    "# validating the card dimention table\n",
    "card_df1.show()"
   ]
  },
  {
   "cell_type": "markdown",
   "id": "eb1bca16",
   "metadata": {},
   "source": [
    "# 5. Fact table creation"
   ]
  },
  {
   "cell_type": "code",
   "execution_count": 37,
   "id": "d4dd1794",
   "metadata": {},
   "outputs": [
    {
     "data": {
      "application/vnd.jupyter.widget-view+json": {
       "model_id": "185f93c20ef84b85b4ee5d1f369ae05e",
       "version_major": 2,
       "version_minor": 0
      },
      "text/plain": [
       "VBox()"
      ]
     },
     "metadata": {},
     "output_type": "display_data"
    },
    {
     "data": {
      "application/vnd.jupyter.widget-view+json": {
       "model_id": "",
       "version_major": 2,
       "version_minor": 0
      },
      "text/plain": [
       "FloatProgress(value=0.0, bar_style='info', description='Progress:', layout=Layout(height='25px', width='50%'),…"
      ]
     },
     "metadata": {},
     "output_type": "display_data"
    }
   ],
   "source": [
    "# creating the fact table\n",
    "# joining on atm id to get atm id and location id\n",
    "\n",
    "df_fact_atm = file1.join(atm_dim_df, on=['atm_number', 'atm_manufacturer'],how= 'left')\n"
   ]
  },
  {
   "cell_type": "code",
   "execution_count": 38,
   "id": "a7cb35ac",
   "metadata": {},
   "outputs": [
    {
     "data": {
      "application/vnd.jupyter.widget-view+json": {
       "model_id": "9921ccb6922d42f19ee7b38feb946318",
       "version_major": 2,
       "version_minor": 0
      },
      "text/plain": [
       "VBox()"
      ]
     },
     "metadata": {},
     "output_type": "display_data"
    },
    {
     "data": {
      "application/vnd.jupyter.widget-view+json": {
       "model_id": "",
       "version_major": 2,
       "version_minor": 0
      },
      "text/plain": [
       "FloatProgress(value=0.0, bar_style='info', description='Progress:', layout=Layout(height='25px', width='50%'),…"
      ]
     },
     "metadata": {},
     "output_type": "display_data"
    },
    {
     "name": "stdout",
     "output_type": "stream",
     "text": [
      "['Atm_number', 'Atm_Manufacturer', 'Year', 'Month', 'Day', 'WeekDay', 'Hour', 'Atm_Status', 'Atm_Location', 'Atm_StreetName', 'Atm_StreetNum', 'Atm_Zipcode', 'Atm_Lat', 'Atm_Long', 'Currency', 'Card_type', 'Transaction_Amt', 'Service', 'Message_Code', 'Message_Text', 'Weather_Lat', 'Weather_Long', 'Weather_CityId', 'Weather_CityName', 'Temp', 'Pressure', 'Humidity', 'Wind_Speed', 'Wind_Degree', 'Rain_3h', 'Clouds_All', 'Weather_Id', 'Weather_Main', 'Weather_Description', 'atm_id', 'atm_location', 'atm_location_id']"
     ]
    }
   ],
   "source": [
    "# validating the join \n",
    "df_fact_atm.columns\n"
   ]
  },
  {
   "cell_type": "code",
   "execution_count": 39,
   "id": "abefbd99",
   "metadata": {},
   "outputs": [
    {
     "data": {
      "application/vnd.jupyter.widget-view+json": {
       "model_id": "54c576a01c2f4e5d8f608c6e4b9b6d16",
       "version_major": 2,
       "version_minor": 0
      },
      "text/plain": [
       "VBox()"
      ]
     },
     "metadata": {},
     "output_type": "display_data"
    },
    {
     "data": {
      "application/vnd.jupyter.widget-view+json": {
       "model_id": "",
       "version_major": 2,
       "version_minor": 0
      },
      "text/plain": [
       "FloatProgress(value=0.0, bar_style='info', description='Progress:', layout=Layout(height='25px', width='50%'),…"
      ]
     },
     "metadata": {},
     "output_type": "display_data"
    }
   ],
   "source": [
    "# left joining the fact table with the date table to get the full date and the date id\n",
    "df_fact_date = df_fact_atm.join(date_dim_df1, on = ['year', 'month', 'day', 'hour', 'weekday'], how = \"left\")"
   ]
  },
  {
   "cell_type": "code",
   "execution_count": 40,
   "id": "708c1699",
   "metadata": {},
   "outputs": [
    {
     "data": {
      "application/vnd.jupyter.widget-view+json": {
       "model_id": "ce95b5458ada4b4cbec50a9fd6177e88",
       "version_major": 2,
       "version_minor": 0
      },
      "text/plain": [
       "VBox()"
      ]
     },
     "metadata": {},
     "output_type": "display_data"
    },
    {
     "data": {
      "application/vnd.jupyter.widget-view+json": {
       "model_id": "",
       "version_major": 2,
       "version_minor": 0
      },
      "text/plain": [
       "FloatProgress(value=0.0, bar_style='info', description='Progress:', layout=Layout(height='25px', width='50%'),…"
      ]
     },
     "metadata": {},
     "output_type": "display_data"
    }
   ],
   "source": [
    "# left joinng the fact table with the card table to get the card id column\n",
    "df_fact_card_type = df_fact_date.join(card_df1, on = ['card_type'], how = \"left\")"
   ]
  },
  {
   "cell_type": "code",
   "execution_count": 41,
   "id": "5842a7dd",
   "metadata": {},
   "outputs": [
    {
     "data": {
      "application/vnd.jupyter.widget-view+json": {
       "model_id": "5a3034488e04458f963e5e59525ef594",
       "version_major": 2,
       "version_minor": 0
      },
      "text/plain": [
       "VBox()"
      ]
     },
     "metadata": {},
     "output_type": "display_data"
    },
    {
     "data": {
      "application/vnd.jupyter.widget-view+json": {
       "model_id": "",
       "version_major": 2,
       "version_minor": 0
      },
      "text/plain": [
       "FloatProgress(value=0.0, bar_style='info', description='Progress:', layout=Layout(height='25px', width='50%'),…"
      ]
     },
     "metadata": {},
     "output_type": "display_data"
    }
   ],
   "source": [
    "#renaming to get the weather location id column\n",
    "df_fact_final = df_fact_card_type.withColumnRenamed('atm_location_id', 'weather_loc_id')"
   ]
  },
  {
   "cell_type": "code",
   "execution_count": 42,
   "id": "5c3ebc78",
   "metadata": {},
   "outputs": [
    {
     "data": {
      "application/vnd.jupyter.widget-view+json": {
       "model_id": "3d5032c0bd6d4d0599af6f33ea2e306a",
       "version_major": 2,
       "version_minor": 0
      },
      "text/plain": [
       "VBox()"
      ]
     },
     "metadata": {},
     "output_type": "display_data"
    },
    {
     "data": {
      "application/vnd.jupyter.widget-view+json": {
       "model_id": "",
       "version_major": 2,
       "version_minor": 0
      },
      "text/plain": [
       "FloatProgress(value=0.0, bar_style='info', description='Progress:', layout=Layout(height='25px', width='50%'),…"
      ]
     },
     "metadata": {},
     "output_type": "display_data"
    },
    {
     "name": "stdout",
     "output_type": "stream",
     "text": [
      "['Card_type', 'Year', 'Month', 'Day', 'Hour', 'WeekDay', 'Atm_number', 'Atm_Manufacturer', 'Atm_Status', 'Atm_Location', 'Atm_StreetName', 'Atm_StreetNum', 'Atm_Zipcode', 'Atm_Lat', 'Atm_Long', 'Currency', 'Transaction_Amt', 'Service', 'Message_Code', 'Message_Text', 'Weather_Lat', 'Weather_Long', 'Weather_CityId', 'Weather_CityName', 'Temp', 'Pressure', 'Humidity', 'Wind_Speed', 'Wind_Degree', 'Rain_3h', 'Clouds_All', 'Weather_Id', 'Weather_Main', 'Weather_Description', 'atm_id', 'atm_location', 'weather_loc_id', 'full_date_time', 'date_id', 'Card_type_id']"
     ]
    }
   ],
   "source": [
    "# validating the fact table columns\n",
    "df_fact_final.columns\n"
   ]
  },
  {
   "cell_type": "code",
   "execution_count": 43,
   "id": "fd376dee",
   "metadata": {},
   "outputs": [
    {
     "data": {
      "application/vnd.jupyter.widget-view+json": {
       "model_id": "668b034b615c446ba1d04e8aca6ea75b",
       "version_major": 2,
       "version_minor": 0
      },
      "text/plain": [
       "VBox()"
      ]
     },
     "metadata": {},
     "output_type": "display_data"
    },
    {
     "data": {
      "application/vnd.jupyter.widget-view+json": {
       "model_id": "",
       "version_major": 2,
       "version_minor": 0
      },
      "text/plain": [
       "FloatProgress(value=0.0, bar_style='info', description='Progress:', layout=Layout(height='25px', width='50%'),…"
      ]
     },
     "metadata": {},
     "output_type": "display_data"
    }
   ],
   "source": [
    "final_fact=df_fact_final.select(F.row_number().over(Window.orderBy(df_fact_final['Transaction_Amt'])).alias(\"trans_id\"),'atm_id','weather_loc_id','date_id', 'Card_type_id','Atm_Status','Currency','Service',\n",
    "                               'Transaction_Amt','Message_Code','Message_Text','Rain_3h', 'Clouds_All','Weather_Id',\n",
    "                                'Weather_Main', 'Weather_Description')"
   ]
  },
  {
   "cell_type": "code",
   "execution_count": 44,
   "id": "997d5f19",
   "metadata": {},
   "outputs": [
    {
     "data": {
      "application/vnd.jupyter.widget-view+json": {
       "model_id": "732209c2a67940ad98023d38d8ef51be",
       "version_major": 2,
       "version_minor": 0
      },
      "text/plain": [
       "VBox()"
      ]
     },
     "metadata": {},
     "output_type": "display_data"
    },
    {
     "data": {
      "application/vnd.jupyter.widget-view+json": {
       "model_id": "",
       "version_major": 2,
       "version_minor": 0
      },
      "text/plain": [
       "FloatProgress(value=0.0, bar_style='info', description='Progress:', layout=Layout(height='25px', width='50%'),…"
      ]
     },
     "metadata": {},
     "output_type": "display_data"
    },
    {
     "name": "stdout",
     "output_type": "stream",
     "text": [
      "16"
     ]
    }
   ],
   "source": [
    "len(final_fact.columns)"
   ]
  },
  {
   "cell_type": "code",
   "execution_count": 45,
   "id": "a5696cfd",
   "metadata": {},
   "outputs": [
    {
     "data": {
      "application/vnd.jupyter.widget-view+json": {
       "model_id": "4ca395de7edd43f985617fb98c109d57",
       "version_major": 2,
       "version_minor": 0
      },
      "text/plain": [
       "VBox()"
      ]
     },
     "metadata": {},
     "output_type": "display_data"
    },
    {
     "data": {
      "application/vnd.jupyter.widget-view+json": {
       "model_id": "",
       "version_major": 2,
       "version_minor": 0
      },
      "text/plain": [
       "FloatProgress(value=0.0, bar_style='info', description='Progress:', layout=Layout(height='25px', width='50%'),…"
      ]
     },
     "metadata": {},
     "output_type": "display_data"
    },
    {
     "name": "stdout",
     "output_type": "stream",
     "text": [
      "2468572"
     ]
    }
   ],
   "source": [
    "final_fact.select('*').count()"
   ]
  },
  {
   "cell_type": "code",
   "execution_count": 46,
   "id": "7b3227f0",
   "metadata": {},
   "outputs": [
    {
     "data": {
      "application/vnd.jupyter.widget-view+json": {
       "model_id": "50f4ac10069449b3b2d0143ee44a780b",
       "version_major": 2,
       "version_minor": 0
      },
      "text/plain": [
       "VBox()"
      ]
     },
     "metadata": {},
     "output_type": "display_data"
    },
    {
     "data": {
      "application/vnd.jupyter.widget-view+json": {
       "model_id": "",
       "version_major": 2,
       "version_minor": 0
      },
      "text/plain": [
       "FloatProgress(value=0.0, bar_style='info', description='Progress:', layout=Layout(height='25px', width='50%'),…"
      ]
     },
     "metadata": {},
     "output_type": "display_data"
    },
    {
     "name": "stdout",
     "output_type": "stream",
     "text": [
      "+--------+------+--------------+-------+------------+----------+--------+----------+---------------+------------+------------+-------+----------+----------+------------+-------------------+\n",
      "|trans_id|atm_id|weather_loc_id|date_id|Card_type_id|Atm_Status|Currency|Service   |Transaction_Amt|Message_Code|Message_Text|Rain_3h|Clouds_All|Weather_Id|Weather_Main|Weather_Description|\n",
      "+--------+------+--------------+-------+------------+----------+--------+----------+---------------+------------+------------+-------+----------+----------+------------+-------------------+\n",
      "|1       |16    |16            |893    |11          |Active    |DKK     |Withdrawal|0              |null        |null        |0.0    |75        |803       |Clouds      |broken clouds      |\n",
      "+--------+------+--------------+-------+------------+----------+--------+----------+---------------+------------+------------+-------+----------+----------+------------+-------------------+\n",
      "only showing top 1 row"
     ]
    }
   ],
   "source": [
    "final_fact.show(1, truncate= False)"
   ]
  },
  {
   "cell_type": "markdown",
   "id": "a900c754",
   "metadata": {},
   "source": [
    "# 6. Loading data to s3 bucket"
   ]
  },
  {
   "cell_type": "code",
   "execution_count": 47,
   "id": "2f8e6369",
   "metadata": {},
   "outputs": [
    {
     "data": {
      "application/vnd.jupyter.widget-view+json": {
       "model_id": "c3565c49936e4df2894c70a330bef5a6",
       "version_major": 2,
       "version_minor": 0
      },
      "text/plain": [
       "VBox()"
      ]
     },
     "metadata": {},
     "output_type": "display_data"
    },
    {
     "data": {
      "application/vnd.jupyter.widget-view+json": {
       "model_id": "",
       "version_major": 2,
       "version_minor": 0
      },
      "text/plain": [
       "FloatProgress(value=0.0, bar_style='info', description='Progress:', layout=Layout(height='25px', width='50%'),…"
      ]
     },
     "metadata": {},
     "output_type": "display_data"
    }
   ],
   "source": [
    "# writing to s3 bucket\n",
    "location_dim_df.coalesce(1).write.format('csv').option('header','false').save('s3://elt-projectbucket/dim_location', mode='overwrite')\n",
    "atm_dim_df.coalesce(1).write.format('csv').option('header','false').save('s3://elt-projectbucket/dim_atm', mode='overwrite')\n",
    "date_dim_df1.coalesce(1).write.format('csv').option('header','false').save('s3://elt-projectbucket/dim_date', mode='overwrite')\n",
    "card_df1.coalesce(1).write.format('csv').option('header','false').save('s3://elt-projectbucket/dim_card_type', mode='overwrite')\n",
    "final_fact.coalesce(1).write.format('csv').option('header','false').save('s3://elt-projectbucket/dim_fact_trans', mode='overwrite')"
   ]
  },
  {
   "cell_type": "code",
   "execution_count": null,
   "id": "95efd0f7",
   "metadata": {},
   "outputs": [],
   "source": []
  }
 ],
 "metadata": {
  "kernelspec": {
   "display_name": "PySpark",
   "language": "",
   "name": "pysparkkernel"
  },
  "language_info": {
   "codemirror_mode": {
    "name": "python",
    "version": 2
   },
   "mimetype": "text/x-python",
   "name": "pyspark",
   "pygments_lexer": "python2"
  }
 },
 "nbformat": 4,
 "nbformat_minor": 5
}
